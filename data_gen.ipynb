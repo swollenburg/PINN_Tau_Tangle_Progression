{
 "cells": [
  {
   "cell_type": "code",
   "execution_count": null,
   "metadata": {},
   "outputs": [],
   "source": [
    "import pandas as pd\n",
    "import numpy as np"
   ]
  },
  {
   "cell_type": "markdown",
   "metadata": {},
   "source": [
    "# Read Data and Connectome"
   ]
  },
  {
   "cell_type": "code",
   "execution_count": null,
   "metadata": {},
   "outputs": [],
   "source": [
    "input_file = pd.read_csv(\"./data/Tau_with_Demographics_Normalized.csv\").drop(columns=['Unnamed: 0'])\n",
    "connectome = pd.read_csv(\"./data/connectome_mean80_fibercount_normalized.csv\")"
   ]
  },
  {
   "cell_type": "code",
   "execution_count": null,
   "metadata": {},
   "outputs": [],
   "source": [
    "regions = ['ctx-rh-bankssts','ctx-rh-caudalanteriorcingulate','ctx-rh-caudalmiddlefrontal','ctx-rh-cuneus','ctx-rh-entorhinal','ctx-rh-fusiform',\\\n",
    "           'ctx-rh-inferiorparietal','ctx-rh-inferiortemporal','ctx-rh-isthmuscingulate','ctx-rh-lateraloccipital','ctx-rh-lateralorbitofrontal',\\\n",
    "           'ctx-rh-lingual','ctx-rh-medialorbitofrontal','ctx-rh-middletemporal','ctx-rh-parahippocampal','ctx-rh-paracentral','ctx-rh-parsopercularis',\\\n",
    "           'ctx-rh-parsorbitalis','ctx-rh-parstriangularis','ctx-rh-pericalcarine','ctx-rh-postcentral','ctx-rh-posteriorcingulate','ctx-rh-precentral',\\\n",
    "           'ctx-rh-precuneus','ctx-rh-rostralanteriorcingulate','ctx-rh-rostralmiddlefrontal','ctx-rh-superiorfrontal','ctx-rh-superiorparietal',\\\n",
    "           'ctx-rh-superiortemporal','ctx-rh-supramarginal','ctx-rh-frontalpole','ctx-rh-temporalpole','ctx-rh-transversetemporal','ctx-rh-insula',\\\n",
    "           'ctx-lh-bankssts','ctx-lh-caudalanteriorcingulate','ctx-lh-caudalmiddlefrontal','ctx-lh-cuneus','ctx-lh-entorhinal','ctx-lh-fusiform',\\\n",
    "           'ctx-lh-inferiorparietal','ctx-lh-inferiortemporal','ctx-lh-isthmuscingulate','ctx-lh-lateraloccipital','ctx-lh-lateralorbitofrontal',\\\n",
    "           'ctx-lh-lingual','ctx-lh-medialorbitofrontal','ctx-lh-middletemporal','ctx-lh-parahippocampal','ctx-lh-paracentral','ctx-lh-parsopercularis',\\\n",
    "           'ctx-lh-parsorbitalis','ctx-lh-parstriangularis','ctx-lh-pericalcarine','ctx-lh-postcentral','ctx-lh-posteriorcingulate','ctx-lh-precentral',\\\n",
    "           'ctx-lh-precuneus','ctx-lh-rostralanteriorcingulate','ctx-lh-rostralmiddlefrontal','ctx-lh-superiorfrontal','ctx-lh-superiorparietal',\\\n",
    "           'ctx-lh-superiortemporal','ctx-lh-supramarginal','ctx-lh-frontalpole','ctx-lh-temporalpole','ctx-lh-transversetemporal','ctx-lh-insula',\\\n",
    "           'Left-Cerebellum-Cortex','Left-Thalamus-Proper','Left-Caudate','Left-Putamen','Left-Pallidum','Left-Hippocampus','Left-Amygdala','Left-Accumbens-area',\\\n",
    "           'Left-VentralDC','Right-Cerebellum-Cortex','Right-Thalamus-Proper','Right-Caudate','Right-Putamen','Right-Pallidum','Right-Hippocampus',\\\n",
    "           'Right-Amygdala','Right-Accumbens-area','Right-VentralDC']"
   ]
  },
  {
   "cell_type": "markdown",
   "metadata": {},
   "source": [
    "# Synthetic Data Generation"
   ]
  },
  {
   "cell_type": "markdown",
   "metadata": {},
   "source": [
    "Create bilaterial entorhinal coretex seeding"
   ]
  },
  {
   "cell_type": "code",
   "execution_count": null,
   "metadata": {},
   "outputs": [],
   "source": [
    "# Remove RID, not needed here\n",
    "input_file = input_file.drop(columns='RID')\n",
    "\n",
    "# Extract index of desired start location\n",
    "regions = [x for x in connectome.columns if 'entorhinal' in x.split('-')]\n",
    "regions_idx = [input_file.columns.get_loc(r) for r in regions]\n",
    "\n",
    "# Adjust for shape of numpy array\n",
    "first_region_idx = list(input_file.columns).index('ctx-rh-bankssts')\n",
    "regions_idx = [r-first_region_idx for r in regions_idx]\n",
    "regions_idx"
   ]
  },
  {
   "cell_type": "code",
   "execution_count": null,
   "metadata": {},
   "outputs": [],
   "source": [
    "# Creat all zeros\n",
    "fake_seed = np.zeros((input_file.shape[0], connectome.shape[1]))\n",
    "\n",
    "# Replace entorhinal with 1\n",
    "fake_seed[:,regions_idx] = 1\n",
    "\n",
    "# Insert into real data\n",
    "input_file.iloc[:,first_region_idx:first_region_idx+connectome.shape[0]] = fake_seed\n",
    "\n",
    "# Save\n",
    "input_file.to_csv(\"./data/fake_seed_data_forward_model.csv\")"
   ]
  },
  {
   "cell_type": "markdown",
   "metadata": {},
   "source": [
    "# Using Predicted Seeds"
   ]
  },
  {
   "cell_type": "markdown",
   "metadata": {},
   "source": [
    "### Read seeds"
   ]
  },
  {
   "cell_type": "code",
   "execution_count": null,
   "metadata": {},
   "outputs": [],
   "source": [
    "seeding = pd.read_csv(\"./data/seeding_patterns.csv\")"
   ]
  },
  {
   "cell_type": "markdown",
   "metadata": {},
   "source": [
    "### Remake Connectome"
   ]
  },
  {
   "cell_type": "markdown",
   "metadata": {},
   "source": [
    "Find regions used in seeds and drop columns from connectome. Renormalize the connectome to have a maximum value of 1."
   ]
  },
  {
   "cell_type": "code",
   "execution_count": null,
   "metadata": {},
   "outputs": [],
   "source": [
    "seeding_regions = list(seeding.drop(columns=['Unnamed: 0', 'RID']).columns)\n",
    "\n",
    "seeding_connectome_idx = sorted([connectome.drop(columns='Unnamed: 0').columns.get_loc(sr) for sr in seeding_regions])\n",
    "seeding_connectome = connectome.drop(columns='Unnamed: 0').iloc[seeding_connectome_idx,seeding_connectome_idx]\n",
    "\n",
    "# Save to CSV\n",
    "seeding_connectome.to_csv('./data/seeding_connectome_mean80_fibercount_normalized.csv')\n",
    "seeding_connectome"
   ]
  },
  {
   "cell_type": "markdown",
   "metadata": {},
   "source": [
    "### Drop columns from input data not in seeding"
   ]
  },
  {
   "cell_type": "markdown",
   "metadata": {},
   "source": [
    "This could be done better, but as of right now this is able to reformat the data in a manner that the current pipeline can be used easily. This dataframe modification should be made more elegant to improve usability."
   ]
  },
  {
   "cell_type": "code",
   "execution_count": null,
   "metadata": {},
   "outputs": [],
   "source": [
    "extra_features = [c for c in list(input_file.columns.values) if c not in regions]\n",
    "input_features = seeding_regions + extra_features\n",
    "seeding_data = input_file.loc[:,input_features]\n",
    "seeding_data = seeding_data.drop(columns='RID')\n",
    "seeding_data.to_csv('./data/seeding_Tau_with_Demographics_Normalized.csv')"
   ]
  },
  {
   "cell_type": "markdown",
   "metadata": {},
   "source": [
    "### Replace Target Tau with Seeds"
   ]
  },
  {
   "cell_type": "code",
   "execution_count": null,
   "metadata": {},
   "outputs": [],
   "source": [
    "seeding_input_idx = sorted([input_file.columns.get_loc(sr) for sr in seeding_regions])\n",
    "\n",
    "# Drop tau\n",
    "seeding_input = input_file.drop(columns=regions)\n",
    "\n",
    "# Insert seeds\n",
    "seeding_input = seeding_input.merge(seeding.drop(columns=['Unnamed: 0']), on='RID')\n",
    "\n",
    "# Save\n",
    "seeding_input.to_csv(\"./data/seeding_data_forward_model.csv\")\n",
    "\n",
    "seeding_input"
   ]
  }
 ],
 "metadata": {
  "kernelspec": {
   "display_name": "data_200s",
   "language": "python",
   "name": "python3"
  },
  "language_info": {
   "codemirror_mode": {
    "name": "ipython",
    "version": 3
   },
   "file_extension": ".py",
   "mimetype": "text/x-python",
   "name": "python",
   "nbconvert_exporter": "python",
   "pygments_lexer": "ipython3",
   "version": "3.11.5"
  }
 },
 "nbformat": 4,
 "nbformat_minor": 2
}
